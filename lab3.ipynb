{
 "cells": [
  {
   "cell_type": "markdown",
   "metadata": {},
   "source": [
    "# Лабораторная работа №3. \n",
    "## Митрофанов Антон, группа м4121\n"
   ]
  },
  {
   "cell_type": "markdown",
   "metadata": {},
   "source": [
    "Возможный план, близкий к изложенному в третьей лекции. Любыми известными способами осуществить построение импульсной и переходной характеристик, амплитудно-частотной и фазочастотной характеристик КИХ- и БИХ-фильтров первого порядка. \n",
    "\n",
    "Проанализировать изменение основных характеристик фильтров при изменении их параметров. Осуществить обработку типовых последовательностей (единичный импульс, единичный скачок, синусоидальное колебание) анализируемыми фильтрами. Сделать соответствующие выводы по полученным результатам.\n"
   ]
  },
  {
   "cell_type": "markdown",
   "metadata": {},
   "source": [
    "----------------------------------------------\n",
    "## Теория\n",
    "**Импульсной характеристикой** системы называется её реакция на единичный импульс при нулевых начальных условиях. <br>\n",
    "**Переходной характеристикой** системы называется её реакция на воздействие в форме единичной функции. \n",
    "\n",
    "### КИХ-фильтры\n",
    "Определение с [вики](https://ru.wikipedia.org/wiki/%D0%A4%D0%B8%D0%BB%D1%8C%D1%82%D1%80_%D1%81_%D0%BA%D0%BE%D0%BD%D0%B5%D1%87%D0%BD%D0%BE%D0%B9_%D0%B8%D0%BC%D0%BF%D1%83%D0%BB%D1%8C%D1%81%D0%BD%D0%BE%D0%B9_%D1%85%D0%B0%D1%80%D0%B0%D0%BA%D1%82%D0%B5%D1%80%D0%B8%D1%81%D1%82%D0%B8%D0%BA%D0%BE%D0%B9) :\n",
    "> Фильтр с конечной импульсной характеристикой (Нерекурсивный фильтр, КИХ-фильтр) или FIR-фильтр (FIR сокр. от finite impulse response — конечная импульсная характеристика) — один из видов линейных цифровых фильтров, характерной особенностью которого является ограниченность по времени его импульсной характеристики (с какого-то момента времени она становится точно равной нулю). Такой фильтр называют ещё нерекурсивным из-за отсутствия обратной связи. Знаменатель передаточной функции такого фильтра — константа.\n",
    "\n",
    "![resources/fir.png](resources/fir.png)\n",
    "\n",
    "\n",
    "### БИХ-фильтры\n",
    "Определение с [вики](https://ru.wikipedia.org/wiki/%D0%A4%D0%B8%D0%BB%D1%8C%D1%82%D1%80_%D1%81_%D0%B1%D0%B5%D1%81%D0%BA%D0%BE%D0%BD%D0%B5%D1%87%D0%BD%D0%BE%D0%B9_%D0%B8%D0%BC%D0%BF%D1%83%D0%BB%D1%8C%D1%81%D0%BD%D0%BE%D0%B9_%D1%85%D0%B0%D1%80%D0%B0%D0%BA%D1%82%D0%B5%D1%80%D0%B8%D1%81%D1%82%D0%B8%D0%BA%D0%BE%D0%B9) :\n",
    "> Фильтр с бесконечной импульсной характеристикой (Рекурсивный фильтр, БИХ-фильтр) или IIR-фильтр (IIR сокр. от infinite impulse response — бесконечная импульсная характеристика) — линейный электронный фильтр, использующий один или более своих выходов в качестве входа, то есть образующий обратную связь. Основным свойством таких фильтров является то, что их импульсная переходная характеристика имеет бесконечную длину во временной области, а передаточная функция имеет дробно-рациональный вид. Такие фильтры могут быть как аналоговыми, так и цифровыми.\n",
    "\n",
    "![resources/iir.png](resources/iir.png)\n",
    "\n",
    "----------------------------"
   ]
  },
  {
   "cell_type": "code",
   "execution_count": 160,
   "metadata": {},
   "outputs": [],
   "source": [
    "import numpy as np\n",
    "import matplotlib.pyplot as plt\n",
    "import scipy\n",
    "import scipy.fft\n",
    "import librosa\n",
    "import IPython.display as ipd\n",
    "import librosa.display\n",
    "\n",
    "np.seterr(divide='ignore', invalid='ignore') # Чтобы не ругался на деление на 0\n",
    "%matplotlib inline"
   ]
  },
  {
   "cell_type": "code",
   "execution_count": 161,
   "metadata": {},
   "outputs": [],
   "source": [
    "# from Lab2\n",
    "def get_amplitude_from_spec(spec):\n",
    "    # YOUR CODE HERE\n",
    "    \n",
    "    #\n",
    "    raise NotImplementedError()\n",
    "\n",
    "#Реализовать функцию построения фазового спекта\n",
    "def get_phi_from_spec(spec):\n",
    "    # YOUR CODE HERE\n",
    "    \n",
    "    #\n",
    "    raise NotImplementedError()\n",
    "    # TODO чекать деление на 0\n",
    "\n",
    "# Функция отрисовки аудио сигнала. \n",
    "def draw_waveform(wav, sr, figsize=(14, 5)):\n",
    "    # Отрисовка звукового сигнала во временной области\n",
    "    plt.figure(figsize=figsize)\n",
    "    librosa.display.waveplot(wav, sr=sr)\n",
    "    plt.show()\n",
    "\n",
    "# Функция отрисовки спектра\n",
    "def draw_spec(spec, name=None, draw_A=True, draw_p=True, figsize=(14, 3)):\n",
    "    if len(spec)<100:\n",
    "        # Рисуем точки как \"леденцы на палочках\"\n",
    "        draw_func = plt.stem\n",
    "    else:\n",
    "        # При большом N \"леденцы\" выглядит плохо, \n",
    "        # Поэтому будем рисовать огибающую\n",
    "        draw_func = plt.plot\n",
    "    \n",
    "    if draw_A:\n",
    "        plt.figure(figsize=figsize)\n",
    "        plt.title(\"Amplitude spectrum\")\n",
    "        spec_A = get_amplitude_from_spec(spec)\n",
    "        draw_func(spec_A)\n",
    "        plt.ylabel(\"magnitude\")\n",
    "        plt.xlabel(\"n\")\n",
    "        if name is not None:\n",
    "            plt.legend([name])\n",
    "        plt.show()\n",
    "        \n",
    "    if draw_p:\n",
    "        plt.figure(figsize=figsize)\n",
    "        plt.title(\"Phase spectrum\")\n",
    "        phi = get_phi_from_spec(spec)\n",
    "        draw_func(phi)\n",
    "        plt.ylabel(\"Radian\")\n",
    "        plt.xlabel(\"n\")\n",
    "        if name is not None:\n",
    "            plt.legend([name])\n",
    "        plt.show()\n",
    "    return \n"
   ]
  },
  {
   "cell_type": "code",
   "execution_count": 10,
   "metadata": {},
   "outputs": [],
   "source": [
    "# Определяем фильтры\n",
    "def FIR_filter(x, alpha_prev=0.5, alpha_curr=0.5):\n",
    "    # alpha_prev - weight for previous frame\n",
    "    # alpha_curr - weight for current frame\n",
    "    \n",
    "    # YOU CODE HERE\n",
    "   \n",
    "    #\n",
    "    raise NotImplementedError()\n",
    "\n",
    "def IIR_filter(x, alpha=0.5):\n",
    "    # alpha - weight for reccurent connection\n",
    "    \n",
    "    # YOU CODE HERE\n",
    "    \n",
    "    #\n",
    "    raise NotImplementedError()\n"
   ]
  },
  {
   "cell_type": "code",
   "execution_count": 29,
   "metadata": {},
   "outputs": [
    {
     "name": "stdout",
     "output_type": "stream",
     "text": [
      "All Ok!\n"
     ]
    }
   ],
   "source": [
    "def test_filters():\n",
    "    x = np.ones(10)\n",
    "    y = FIR_filter(x)\n",
    "    assert y[0] == 0.5 and (y[1:] == 1).all(), \\\n",
    "        RuntimeError(f\"bad FIR. x={x}. y={y}\")\n",
    "    y = FIR_filter(x, alpha_prev=0.1, alpha_curr=0.9)\n",
    "    assert y[0] == 0.9 and (y[1:] == 1).all(), \\\n",
    "        RuntimeError(f\"bad FIR(alphas 0.1 and 0.9). x={x}. y={y}\")\n",
    "    y = IIR_filter(x)\n",
    "    assert y[0]==1 and (y[3:].round() == 2).all() and (y<2).all(), \\\n",
    "        RuntimeError(f\"Bad IIR. x={x}. y={y}\")\n",
    "    y = IIR_filter(x, 0.2)\n",
    "    assert y[0]==1 and (y[3:].round(2) ==1.25).all() and (y<1.25).all(), \\\n",
    "        RuntimeError(f\"Bad IIR(alpha={0.2}. x={x}. y={y}\")\n",
    "    print(\"All Ok!\")\n",
    "\n",
    "test_filters()"
   ]
  },
  {
   "cell_type": "markdown",
   "metadata": {},
   "source": [
    "## Импульсная и переходная характеристики\n"
   ]
  },
  {
   "cell_type": "code",
   "execution_count": 146,
   "metadata": {},
   "outputs": [
    {
     "name": "stdout",
     "output_type": "stream",
     "text": [
      "Импульсная характеристика фильтров с aplha=0.5:\n"
     ]
    },
    {
     "data": {
      "image/png": "[encoded data removed]",
      "text/plain": [
       "<Figure size 576x144 with 1 Axes>"
      ]
     },
     "metadata": {
      "needs_background": "light"
     },
     "output_type": "display_data"
    },
    {
     "data": {
      "image/png": "[encoded data removed]",
      "text/plain": [
       "<Figure size 576x144 with 1 Axes>"
      ]
     },
     "metadata": {
      "needs_background": "light"
     },
     "output_type": "display_data"
    }
   ],
   "source": [
    "print(\"Импульсная характеристика фильтров с aplha=0.5:\")\n",
    "\n",
    "# Получите импульсную характеристику FIR_filter и IIR_filter\n",
    "# YOUR CODE HERE\n",
    "#\n",
    "impulse = \n",
    "fir_impulse_response =\n",
    "iir_impulse_response =\n",
    "#\n",
    "\n",
    "plt.figure(figsize=(8,2))\n",
    "plt.title(\"КИХ-фильтр:\")\n",
    "plt.plot(impulse, 'o-')\n",
    "plt.plot(fir_impulse_response, '.-')\n",
    "plt.legend(['импульс', 'фильтр'])\n",
    "plt.axis([-0.1, len(impulse), -0.1, 1.2])\n",
    "plt.show()\n",
    "\n",
    "plt.figure(figsize=(8,2))\n",
    "plt.title(\"БИХ-фильтр:\")\n",
    "plt.plot(impulse, 'o-')\n",
    "plt.plot(iir_impulse_response, '.-')\n",
    "plt.legend(['импульс', 'фильтр'])\n",
    "plt.axis([-0.1, len(impulse), -0.1, 1.2])\n",
    "plt.show()"
   ]
  },
  {
   "cell_type": "code",
   "execution_count": 142,
   "metadata": {},
   "outputs": [
    {
     "name": "stdout",
     "output_type": "stream",
     "text": [
      "All ok!\n"
     ]
    }
   ],
   "source": [
    "assert (fir_impulse_response[0:2] == 0.5).all() and \\\n",
    "        (fir_impulse_response[2:] == 0).all(), \"Bad FIR.\"\n",
    "assert iir_impulse_response.sum().round() == 2 and \\\n",
    "        iir_impulse_response.sum()<2 and \\\n",
    "        (iir_impulse_response != 0).all(), \"Bad IIR.\"\n",
    "assert iir_impulse_response[1:].sum().round() == 1 and \\\n",
    "        iir_impulse_response[1:].sum()<1 and \\\n",
    "        iir_impulse_response[2:].sum() < 0.5, \"Bad IIR.\"\n",
    "print(\"All ok!\")"
   ]
  },
  {
   "cell_type": "code",
   "execution_count": 124,
   "metadata": {},
   "outputs": [
    {
     "name": "stdout",
     "output_type": "stream",
     "text": [
      "Переходная характеристика фильтров с alpha=0.5:\n"
     ]
    },
    {
     "data": {
      "image/png": "[encoded data removed]",
      "text/plain": [
       "<Figure size 576x144 with 1 Axes>"
      ]
     },
     "metadata": {
      "needs_background": "light"
     },
     "output_type": "display_data"
    },
    {
     "data": {
      "image/png": "[encoded data removed]",
      "text/plain": [
       "<Figure size 576x144 with 1 Axes>"
      ]
     },
     "metadata": {
      "needs_background": "light"
     },
     "output_type": "display_data"
    }
   ],
   "source": [
    "print(\"Переходная характеристика фильтров с alpha=0.5:\")\n",
    "# Получите переходную зарактеристику фильтров\n",
    "# YOUR CODE HERE\n",
    "#\n",
    "step = \n",
    "fir_step_response =\n",
    "iir_step_response =\n",
    "#\n",
    "\n",
    "plt.figure(figsize=(8,2))\n",
    "plt.title(\"КИХ-фильтра:\")\n",
    "plt.plot(step, 'o-')\n",
    "plt.plot(fir_step_response, '.-')\n",
    "plt.axis([-0.1, len(step), 0, 1.2])\n",
    "plt.legend(['скачок', 'фильтр'])\n",
    "\n",
    "plt.show()\n",
    "\n",
    "plt.figure(figsize=(8,2))\n",
    "plt.title(\"БИХ-фильтра:\")\n",
    "plt.plot(step, 'o-')\n",
    "plt.plot(iir_step_response, '.-')\n",
    "plt.axis([-0.1, len(step), 0, 2.2])\n",
    "plt.legend(['скачок', 'фильтр'])\n",
    "plt.show()"
   ]
  },
  {
   "cell_type": "code",
   "execution_count": 122,
   "metadata": {},
   "outputs": [
    {
     "name": "stdout",
     "output_type": "stream",
     "text": [
      "All ok!\n"
     ]
    }
   ],
   "source": [
    "assert fir_step_response[0] == 0.5 and \\\n",
    "        (fir_step_response[1:] == 1).all(), \"Bad FIR.\"\n",
    "assert iir_step_response[0] == 1 and iir_step_response[1] == 1.5 and iir_step_response[2] == 1.75 and \\\n",
    "        iir_step_response.mean().round() == 2 and (iir_step_response < 2).all(), \"Bad IIR.\"\n",
    "print(\"All ok!\")"
   ]
  },
  {
   "cell_type": "markdown",
   "metadata": {},
   "source": [
    "## амплитудно-частотная и фазочастотная характеристик"
   ]
  },
  {
   "cell_type": "code",
   "execution_count": 149,
   "metadata": {},
   "outputs": [
    {
     "name": "stdout",
     "output_type": "stream",
     "text": [
      "амплитудно-частотная характеристика фильтров с alpha=0.5\n"
     ]
    },
    {
     "data": {
      "image/png": "[encoded data removed]",
      "text/plain": [
       "<Figure size 432x144 with 1 Axes>"
      ]
     },
     "metadata": {
      "needs_background": "light"
     },
     "output_type": "display_data"
    },
    {
     "data": {
      "image/png": "[encoded data removed]",
      "text/plain": [
       "<Figure size 432x144 with 1 Axes>"
      ]
     },
     "metadata": {
      "needs_background": "light"
     },
     "output_type": "display_data"
    }
   ],
   "source": [
    "print(\"амплитудно-частотная характеристика фильтров с alpha=0.5\")\n",
    "\n",
    "# Получить амплитудно-частотную характеристику\n",
    "# YOUR CODE HERE\n",
    "#\n",
    "fir_frequency_response = \n",
    "iir_frequency_response = \n",
    "#\n",
    "\n",
    "\n",
    "plt.figure(figsize=(6,2))\n",
    "plt.title(\"КИХ-фильтра:\")\n",
    "plt.plot(fir_frequency_response, '.-')\n",
    "plt.show()\n",
    "\n",
    "\n",
    "plt.figure(figsize=(6,2))\n",
    "plt.title(\"БИХ-фильтра:\")\n",
    "plt.plot(iir_frequency_response, '.-')\n",
    "plt.show()"
   ]
  },
  {
   "cell_type": "code",
   "execution_count": 150,
   "metadata": {},
   "outputs": [
    {
     "ename": "AssertionError",
     "evalue": "Bad FIR.",
     "output_type": "error",
     "traceback": [
      "\u001b[0;31m---------------------------------------------------------------------------\u001b[0m",
      "\u001b[0;31mAssertionError\u001b[0m                            Traceback (most recent call last)",
      "\u001b[0;32m<ipython-input-150-53c06f0ffa3d>\u001b[0m in \u001b[0;36m<module>\u001b[0;34m\u001b[0m\n\u001b[0;32m----> 1\u001b[0;31m \u001b[0;32massert\u001b[0m \u001b[0mfir_frequency_response\u001b[0m\u001b[0;34m[\u001b[0m\u001b[0;36m0\u001b[0m\u001b[0;34m]\u001b[0m \u001b[0;34m==\u001b[0m \u001b[0;36m1\u001b[0m \u001b[0;32mand\u001b[0m\u001b[0;31m \u001b[0m\u001b[0;31m\\\u001b[0m\u001b[0;34m\u001b[0m\u001b[0;34m\u001b[0m\u001b[0m\n\u001b[0m\u001b[1;32m      2\u001b[0m         \u001b[0mfir_frequency_response\u001b[0m\u001b[0;34m[\u001b[0m\u001b[0;36m1\u001b[0m\u001b[0;34m]\u001b[0m\u001b[0;34m.\u001b[0m\u001b[0mround\u001b[0m\u001b[0;34m(\u001b[0m\u001b[0;36m2\u001b[0m\u001b[0;34m)\u001b[0m \u001b[0;34m==\u001b[0m \u001b[0;36m0.99\u001b[0m \u001b[0;32mand\u001b[0m\u001b[0;31m \u001b[0m\u001b[0;31m\\\u001b[0m\u001b[0;34m\u001b[0m\u001b[0;34m\u001b[0m\u001b[0m\n\u001b[1;32m      3\u001b[0m         \u001b[0mfir_frequency_response\u001b[0m\u001b[0;34m[\u001b[0m\u001b[0;36m2\u001b[0m\u001b[0;34m]\u001b[0m\u001b[0;34m.\u001b[0m\u001b[0mround\u001b[0m\u001b[0;34m(\u001b[0m\u001b[0;36m2\u001b[0m\u001b[0;34m)\u001b[0m \u001b[0;34m==\u001b[0m \u001b[0;36m0.95\u001b[0m \u001b[0;32mand\u001b[0m\u001b[0;31m \u001b[0m\u001b[0;31m\\\u001b[0m\u001b[0;34m\u001b[0m\u001b[0;34m\u001b[0m\u001b[0m\n\u001b[1;32m      4\u001b[0m         \u001b[0;34m(\u001b[0m\u001b[0mfir_frequency_response\u001b[0m\u001b[0;34m[\u001b[0m\u001b[0;36m1\u001b[0m\u001b[0;34m:\u001b[0m\u001b[0;34m]\u001b[0m \u001b[0;34m<\u001b[0m \u001b[0;36m1\u001b[0m\u001b[0;34m)\u001b[0m\u001b[0;34m.\u001b[0m\u001b[0mall\u001b[0m\u001b[0;34m(\u001b[0m\u001b[0;34m)\u001b[0m \u001b[0;32mand\u001b[0m\u001b[0;31m \u001b[0m\u001b[0;31m\\\u001b[0m\u001b[0;34m\u001b[0m\u001b[0;34m\u001b[0m\u001b[0m\n\u001b[1;32m      5\u001b[0m         \u001b[0;34m(\u001b[0m\u001b[0mfir_frequency_response\u001b[0m\u001b[0;34m[\u001b[0m\u001b[0;36m1\u001b[0m\u001b[0;34m:\u001b[0m\u001b[0;34m]\u001b[0m \u001b[0;34m>\u001b[0m \u001b[0;36m0\u001b[0m\u001b[0;34m)\u001b[0m\u001b[0;34m.\u001b[0m\u001b[0mall\u001b[0m\u001b[0;34m(\u001b[0m\u001b[0;34m)\u001b[0m\u001b[0;34m,\u001b[0m \u001b[0;34m\"Bad FIR.\"\u001b[0m\u001b[0;34m\u001b[0m\u001b[0;34m\u001b[0m\u001b[0m\n",
      "\u001b[0;31mAssertionError\u001b[0m: Bad FIR."
     ]
    }
   ],
   "source": [
    "### TODO make tests\n",
    "\n",
    "print(\"All ok!\")"
   ]
  },
  {
   "cell_type": "code",
   "execution_count": 128,
   "metadata": {},
   "outputs": [
    {
     "name": "stdout",
     "output_type": "stream",
     "text": [
      "Фазово-частотная характеристика\n"
     ]
    },
    {
     "data": {
      "image/png": "[encoded data removed]",
      "text/plain": [
       "<Figure size 432x144 with 1 Axes>"
      ]
     },
     "metadata": {
      "needs_background": "light"
     },
     "output_type": "display_data"
    },
    {
     "data": {
      "image/png": "[encoded data removed]",
      "text/plain": [
       "<Figure size 432x144 with 1 Axes>"
      ]
     },
     "metadata": {
      "needs_background": "light"
     },
     "output_type": "display_data"
    }
   ],
   "source": [
    "print(\"Фазово-частотная характеристика\")\n",
    "\n",
    "# Получить фазово-частотную характеристику\n",
    "# YOUR CODE HERE\n",
    "#\n",
    "fir_phase_response = \n",
    "iir_phase_response = \n",
    "#\n",
    "\n",
    "\n",
    "plt.figure(figsize=(6,2))\n",
    "plt.title(\"КИХ-фильтра:\")\n",
    "plt.plot(fir_phase_response, '.-')\n",
    "plt.show()\n",
    "\n",
    "fr_iir = scipy.fft.fft(iir_imp)\n",
    "plt.figure(figsize=(6,2))\n",
    "plt.title(\"БИХ-фильтра:\")\n",
    "plt.plot(iir_phase_response, '.-')\n",
    "\n",
    "plt.show()"
   ]
  },
  {
   "cell_type": "code",
   "execution_count": null,
   "metadata": {},
   "outputs": [],
   "source": [
    "#\n",
    "### TODO MAKE TESTS\n",
    "##\n",
    "#\n",
    "print(\"All ok!\")"
   ]
  }
 ],
 "metadata": {
  "kernelspec": {
   "display_name": "Python 3",
   "language": "python",
   "name": "python3"
  },
  "language_info": {
   "codemirror_mode": {
    "name": "ipython",
    "version": 3
   },
   "file_extension": ".py",
   "mimetype": "text/x-python",
   "name": "python",
   "nbconvert_exporter": "python",
   "pygments_lexer": "ipython3",
   "version": "3.8.3"
  }
 },
 "nbformat": 4,
 "nbformat_minor": 4
}
